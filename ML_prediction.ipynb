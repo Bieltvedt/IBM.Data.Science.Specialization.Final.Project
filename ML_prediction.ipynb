{
    "cells": [
        {
            "metadata": {
                "id": "2Y_0aoyBdSxm"
            },
            "cell_type": "markdown",
            "source": "<center>\n    <img src=\"https://gitlab.com/ibm/skills-network/courses/placeholder101/-/raw/master/labs/module%201/images/IDSNlogo.png\" width=\"300\" alt=\"cognitiveclass.ai logo\"  />\n</center>\n"
        },
        {
            "metadata": {
                "id": "4MH2yFjXdSxt"
            },
            "cell_type": "markdown",
            "source": "# **Space X  Falcon 9 First Stage Landing Prediction**\n"
        },
        {
            "metadata": {
                "id": "IhzrihRhdSxu"
            },
            "cell_type": "markdown",
            "source": "## Assignment:  Machine Learning Prediction\n"
        },
        {
            "metadata": {
                "id": "Dhngs7rmdSxv"
            },
            "cell_type": "markdown",
            "source": "Estimated time needed: **60** minutes\n"
        },
        {
            "metadata": {
                "id": "QwAfsrsGdSxw"
            },
            "cell_type": "markdown",
            "source": "Space X advertises Falcon 9 rocket launches on its website with a cost of 62 million dollars; other providers cost upward of 165 million dollars each, much of the savings is because Space X can reuse the first stage. Therefore if we can determine if the first stage will land, we can determine the cost of a launch. This information can be used if an alternate company wants to bid against space X for a rocket launch.   In this lab, you will create a machine learning pipeline  to predict if the first stage will land given the data from the preceding labs.\n"
        },
        {
            "metadata": {
                "id": "zMyp9tiOdSxw"
            },
            "cell_type": "markdown",
            "source": "![](https://cf-courses-data.s3.us.cloud-object-storage.appdomain.cloud/IBMDeveloperSkillsNetwork-DS0701EN-SkillsNetwork/api/Images/landing\\_1.gif)\n"
        },
        {
            "metadata": {
                "id": "jGvfXvKJdSxx"
            },
            "cell_type": "markdown",
            "source": "Several examples of an unsuccessful landing are shown here:\n"
        },
        {
            "metadata": {
                "id": "3t24rChcdSx0"
            },
            "cell_type": "markdown",
            "source": "![](https://cf-courses-data.s3.us.cloud-object-storage.appdomain.cloud/IBMDeveloperSkillsNetwork-DS0701EN-SkillsNetwork/api/Images/crash.gif)\n"
        },
        {
            "metadata": {
                "id": "mSJHeny5dSx1"
            },
            "cell_type": "markdown",
            "source": "Most unsuccessful landings are planed. Space X; performs a controlled landing in the oceans.\n"
        },
        {
            "metadata": {
                "id": "8yWWCpPedSx2"
            },
            "cell_type": "markdown",
            "source": "## Objectives\n"
        },
        {
            "metadata": {
                "id": "wgmGDpghdSx4"
            },
            "cell_type": "markdown",
            "source": "Perform exploratory  Data Analysis and determine Training Labels\n\n*   create a column for the class\n*   Standardize the data\n*   Split into training data and test data\n\n\\-Find best Hyperparameter for SVM, Classification Trees and Logistic Regression\n\n*   Find the method performs best using test data\n"
        },
        {
            "metadata": {
                "id": "2rZFtpdKdSx5"
            },
            "cell_type": "markdown",
            "source": ""
        },
        {
            "metadata": {
                "id": "Lje1Fc1edSx5"
            },
            "cell_type": "markdown",
            "source": "***\n"
        },
        {
            "metadata": {
                "id": "JH7IiIIhdSx5"
            },
            "cell_type": "markdown",
            "source": "## Import Libraries and Define Auxiliary Functions\n"
        },
        {
            "metadata": {
                "id": "3pJsbMR7dSx6"
            },
            "cell_type": "markdown",
            "source": "We will import the following libraries for the lab\n"
        },
        {
            "metadata": {
                "id": "QofKCcYmdSx6",
                "executionInfo": {
                    "status": "ok",
                    "timestamp": 1637330210504,
                    "user_tz": 0,
                    "elapsed": 1571,
                    "user": {
                        "displayName": "\u00cdsak Bieltvedt J\u00f3nsson",
                        "photoUrl": "https://lh3.googleusercontent.com/a-/AOh14GiTiI0piuXLSgvniCF5NOQLHhPXGjkugzPXJh-f=s64",
                        "userId": "10107236773476245691"
                    }
                }
            },
            "cell_type": "code",
            "source": "# Pandas is a software library written for the Python programming language for data manipulation and analysis.\nimport pandas as pd\n# NumPy is a library for the Python programming language, adding support for large, multi-dimensional arrays and matrices, along with a large collection of high-level mathematical functions to operate on these arrays\nimport numpy as np\n# Matplotlib is a plotting library for python and pyplot gives us a MatLab like plotting framework. We will use this in our plotter function to plot data.\nimport matplotlib.pyplot as plt\n#Seaborn is a Python data visualization library based on matplotlib. It provides a high-level interface for drawing attractive and informative statistical graphics\nimport seaborn as sns\n# Preprocessing allows us to standarsize our data\nfrom sklearn import preprocessing\n# Allows us to split our data into training and testing data\nfrom sklearn.model_selection import train_test_split\n# Allows us to test parameters of classification algorithms and find the best one\nfrom sklearn.model_selection import GridSearchCV\n# Logistic Regression classification algorithm\nfrom sklearn.linear_model import LogisticRegression\n# Support Vector Machine classification algorithm\nfrom sklearn.svm import SVC\n# Decision Tree classification algorithm\nfrom sklearn.tree import DecisionTreeClassifier\n# K Nearest Neighbors classification algorithm\nfrom sklearn.neighbors import KNeighborsClassifier",
            "execution_count": 1,
            "outputs": []
        },
        {
            "metadata": {
                "id": "GFrNNW2FdSx8"
            },
            "cell_type": "markdown",
            "source": "This function is to plot the confusion matrix.\n"
        },
        {
            "metadata": {
                "id": "Ufzxrlk-dSx9",
                "executionInfo": {
                    "status": "ok",
                    "timestamp": 1637330232503,
                    "user_tz": 0,
                    "elapsed": 1142,
                    "user": {
                        "displayName": "\u00cdsak Bieltvedt J\u00f3nsson",
                        "photoUrl": "https://lh3.googleusercontent.com/a-/AOh14GiTiI0piuXLSgvniCF5NOQLHhPXGjkugzPXJh-f=s64",
                        "userId": "10107236773476245691"
                    }
                }
            },
            "cell_type": "code",
            "source": "def plot_confusion_matrix(y,y_predict):\n    \"this function plots the confusion matrix\"\n    from sklearn.metrics import confusion_matrix\n\n    cm = confusion_matrix(y, y_predict)\n    ax= plt.subplot()\n    sns.heatmap(cm, annot=True, ax = ax); #annot=True to annotate cells\n    ax.set_xlabel('Predicted labels')\n    ax.set_ylabel('True labels')\n    ax.set_title('Confusion Matrix'); \n    ax.xaxis.set_ticklabels(['did not land', 'land']); ax.yaxis.set_ticklabels(['did not land', 'landed'])",
            "execution_count": 2,
            "outputs": []
        },
        {
            "metadata": {
                "id": "aWgQTkxpdSx-"
            },
            "cell_type": "markdown",
            "source": "## Load the dataframe\n"
        },
        {
            "metadata": {
                "id": "F-0RLScndSx_"
            },
            "cell_type": "markdown",
            "source": "Load the data\n"
        },
        {
            "metadata": {
                "colab": {
                    "base_uri": "https://localhost:8080/",
                    "height": 313
                },
                "id": "GqF3_A5ndSx_",
                "executionInfo": {
                    "status": "ok",
                    "timestamp": 1637330261606,
                    "user_tz": 0,
                    "elapsed": 561,
                    "user": {
                        "displayName": "\u00cdsak Bieltvedt J\u00f3nsson",
                        "photoUrl": "https://lh3.googleusercontent.com/a-/AOh14GiTiI0piuXLSgvniCF5NOQLHhPXGjkugzPXJh-f=s64",
                        "userId": "10107236773476245691"
                    }
                },
                "outputId": "dcf890e8-afdc-430d-96f7-9eb87ef0ffdc"
            },
            "cell_type": "code",
            "source": "data = pd.read_csv(\"https://cf-courses-data.s3.us.cloud-object-storage.appdomain.cloud/IBM-DS0321EN-SkillsNetwork/datasets/dataset_part_2.csv\")\n\n# If you were unable to complete the previous lab correctly you can uncomment and load this csv\n\n# data = pd.read_csv('https://cf-courses-data.s3.us.cloud-object-storage.appdomain.cloud/IBMDeveloperSkillsNetwork-DS0701EN-SkillsNetwork/api/dataset_part_2.csv')\n\ndata.head()",
            "execution_count": 3,
            "outputs": [
                {
                    "output_type": "execute_result",
                    "data": {
                        "text/html": "<div>\n<style scoped>\n    .dataframe tbody tr th:only-of-type {\n        vertical-align: middle;\n    }\n\n    .dataframe tbody tr th {\n        vertical-align: top;\n    }\n\n    .dataframe thead th {\n        text-align: right;\n    }\n</style>\n<table border=\"1\" class=\"dataframe\">\n  <thead>\n    <tr style=\"text-align: right;\">\n      <th></th>\n      <th>FlightNumber</th>\n      <th>Date</th>\n      <th>BoosterVersion</th>\n      <th>PayloadMass</th>\n      <th>Orbit</th>\n      <th>LaunchSite</th>\n      <th>Outcome</th>\n      <th>Flights</th>\n      <th>GridFins</th>\n      <th>Reused</th>\n      <th>Legs</th>\n      <th>LandingPad</th>\n      <th>Block</th>\n      <th>ReusedCount</th>\n      <th>Serial</th>\n      <th>Longitude</th>\n      <th>Latitude</th>\n      <th>Class</th>\n    </tr>\n  </thead>\n  <tbody>\n    <tr>\n      <th>0</th>\n      <td>1</td>\n      <td>2010-06-04</td>\n      <td>Falcon 9</td>\n      <td>6104.959412</td>\n      <td>LEO</td>\n      <td>CCAFS SLC 40</td>\n      <td>None None</td>\n      <td>1</td>\n      <td>False</td>\n      <td>False</td>\n      <td>False</td>\n      <td>NaN</td>\n      <td>1.0</td>\n      <td>0</td>\n      <td>B0003</td>\n      <td>-80.577366</td>\n      <td>28.561857</td>\n      <td>0</td>\n    </tr>\n    <tr>\n      <th>1</th>\n      <td>2</td>\n      <td>2012-05-22</td>\n      <td>Falcon 9</td>\n      <td>525.000000</td>\n      <td>LEO</td>\n      <td>CCAFS SLC 40</td>\n      <td>None None</td>\n      <td>1</td>\n      <td>False</td>\n      <td>False</td>\n      <td>False</td>\n      <td>NaN</td>\n      <td>1.0</td>\n      <td>0</td>\n      <td>B0005</td>\n      <td>-80.577366</td>\n      <td>28.561857</td>\n      <td>0</td>\n    </tr>\n    <tr>\n      <th>2</th>\n      <td>3</td>\n      <td>2013-03-01</td>\n      <td>Falcon 9</td>\n      <td>677.000000</td>\n      <td>ISS</td>\n      <td>CCAFS SLC 40</td>\n      <td>None None</td>\n      <td>1</td>\n      <td>False</td>\n      <td>False</td>\n      <td>False</td>\n      <td>NaN</td>\n      <td>1.0</td>\n      <td>0</td>\n      <td>B0007</td>\n      <td>-80.577366</td>\n      <td>28.561857</td>\n      <td>0</td>\n    </tr>\n    <tr>\n      <th>3</th>\n      <td>4</td>\n      <td>2013-09-29</td>\n      <td>Falcon 9</td>\n      <td>500.000000</td>\n      <td>PO</td>\n      <td>VAFB SLC 4E</td>\n      <td>False Ocean</td>\n      <td>1</td>\n      <td>False</td>\n      <td>False</td>\n      <td>False</td>\n      <td>NaN</td>\n      <td>1.0</td>\n      <td>0</td>\n      <td>B1003</td>\n      <td>-120.610829</td>\n      <td>34.632093</td>\n      <td>0</td>\n    </tr>\n    <tr>\n      <th>4</th>\n      <td>5</td>\n      <td>2013-12-03</td>\n      <td>Falcon 9</td>\n      <td>3170.000000</td>\n      <td>GTO</td>\n      <td>CCAFS SLC 40</td>\n      <td>None None</td>\n      <td>1</td>\n      <td>False</td>\n      <td>False</td>\n      <td>False</td>\n      <td>NaN</td>\n      <td>1.0</td>\n      <td>0</td>\n      <td>B1004</td>\n      <td>-80.577366</td>\n      <td>28.561857</td>\n      <td>0</td>\n    </tr>\n  </tbody>\n</table>\n</div>",
                        "text/plain": "   FlightNumber        Date BoosterVersion  ...   Longitude   Latitude Class\n0             1  2010-06-04       Falcon 9  ...  -80.577366  28.561857     0\n1             2  2012-05-22       Falcon 9  ...  -80.577366  28.561857     0\n2             3  2013-03-01       Falcon 9  ...  -80.577366  28.561857     0\n3             4  2013-09-29       Falcon 9  ... -120.610829  34.632093     0\n4             5  2013-12-03       Falcon 9  ...  -80.577366  28.561857     0\n\n[5 rows x 18 columns]"
                    },
                    "metadata": {},
                    "execution_count": 3
                }
            ]
        },
        {
            "metadata": {
                "colab": {
                    "base_uri": "https://localhost:8080/",
                    "height": 461
                },
                "id": "78GDZCQvdSyA",
                "executionInfo": {
                    "status": "ok",
                    "timestamp": 1637330265210,
                    "user_tz": 0,
                    "elapsed": 1115,
                    "user": {
                        "displayName": "\u00cdsak Bieltvedt J\u00f3nsson",
                        "photoUrl": "https://lh3.googleusercontent.com/a-/AOh14GiTiI0piuXLSgvniCF5NOQLHhPXGjkugzPXJh-f=s64",
                        "userId": "10107236773476245691"
                    }
                },
                "outputId": "c1f9f656-c885-4aa0-d8bd-c3bcde59a085"
            },
            "cell_type": "code",
            "source": "X = pd.read_csv('https://cf-courses-data.s3.us.cloud-object-storage.appdomain.cloud/IBM-DS0321EN-SkillsNetwork/datasets/dataset_part_3.csv')\n\n# If you were unable to complete the previous lab correctly you can uncomment and load this csv\n\n# X = pd.read_csv('https://cf-courses-data.s3.us.cloud-object-storage.appdomain.cloud/IBMDeveloperSkillsNetwork-DS0701EN-SkillsNetwork/api/dataset_part_3.csv')\n\nX.head(100)",
            "execution_count": 4,
            "outputs": [
                {
                    "output_type": "execute_result",
                    "data": {
                        "text/html": "<div>\n<style scoped>\n    .dataframe tbody tr th:only-of-type {\n        vertical-align: middle;\n    }\n\n    .dataframe tbody tr th {\n        vertical-align: top;\n    }\n\n    .dataframe thead th {\n        text-align: right;\n    }\n</style>\n<table border=\"1\" class=\"dataframe\">\n  <thead>\n    <tr style=\"text-align: right;\">\n      <th></th>\n      <th>FlightNumber</th>\n      <th>PayloadMass</th>\n      <th>Flights</th>\n      <th>Block</th>\n      <th>ReusedCount</th>\n      <th>Orbit_ES-L1</th>\n      <th>Orbit_GEO</th>\n      <th>Orbit_GTO</th>\n      <th>Orbit_HEO</th>\n      <th>Orbit_ISS</th>\n      <th>Orbit_LEO</th>\n      <th>Orbit_MEO</th>\n      <th>Orbit_PO</th>\n      <th>Orbit_SO</th>\n      <th>Orbit_SSO</th>\n      <th>Orbit_VLEO</th>\n      <th>LaunchSite_CCAFS SLC 40</th>\n      <th>LaunchSite_KSC LC 39A</th>\n      <th>LaunchSite_VAFB SLC 4E</th>\n      <th>LandingPad_5e9e3032383ecb267a34e7c7</th>\n      <th>LandingPad_5e9e3032383ecb554034e7c9</th>\n      <th>LandingPad_5e9e3032383ecb6bb234e7ca</th>\n      <th>LandingPad_5e9e3032383ecb761634e7cb</th>\n      <th>LandingPad_5e9e3033383ecbb9e534e7cc</th>\n      <th>Serial_B0003</th>\n      <th>Serial_B0005</th>\n      <th>Serial_B0007</th>\n      <th>Serial_B1003</th>\n      <th>Serial_B1004</th>\n      <th>Serial_B1005</th>\n      <th>Serial_B1006</th>\n      <th>Serial_B1007</th>\n      <th>Serial_B1008</th>\n      <th>Serial_B1010</th>\n      <th>Serial_B1011</th>\n      <th>Serial_B1012</th>\n      <th>Serial_B1013</th>\n      <th>Serial_B1015</th>\n      <th>Serial_B1016</th>\n      <th>Serial_B1017</th>\n      <th>...</th>\n      <th>Serial_B1021</th>\n      <th>Serial_B1022</th>\n      <th>Serial_B1023</th>\n      <th>Serial_B1025</th>\n      <th>Serial_B1026</th>\n      <th>Serial_B1028</th>\n      <th>Serial_B1029</th>\n      <th>Serial_B1030</th>\n      <th>Serial_B1031</th>\n      <th>Serial_B1032</th>\n      <th>Serial_B1034</th>\n      <th>Serial_B1035</th>\n      <th>Serial_B1036</th>\n      <th>Serial_B1037</th>\n      <th>Serial_B1038</th>\n      <th>Serial_B1039</th>\n      <th>Serial_B1040</th>\n      <th>Serial_B1041</th>\n      <th>Serial_B1042</th>\n      <th>Serial_B1043</th>\n      <th>Serial_B1044</th>\n      <th>Serial_B1045</th>\n      <th>Serial_B1046</th>\n      <th>Serial_B1047</th>\n      <th>Serial_B1048</th>\n      <th>Serial_B1049</th>\n      <th>Serial_B1050</th>\n      <th>Serial_B1051</th>\n      <th>Serial_B1054</th>\n      <th>Serial_B1056</th>\n      <th>Serial_B1058</th>\n      <th>Serial_B1059</th>\n      <th>Serial_B1060</th>\n      <th>Serial_B1062</th>\n      <th>GridFins_False</th>\n      <th>GridFins_True</th>\n      <th>Reused_False</th>\n      <th>Reused_True</th>\n      <th>Legs_False</th>\n      <th>Legs_True</th>\n    </tr>\n  </thead>\n  <tbody>\n    <tr>\n      <th>0</th>\n      <td>1.0</td>\n      <td>6104.959412</td>\n      <td>1.0</td>\n      <td>1.0</td>\n      <td>0.0</td>\n      <td>0.0</td>\n      <td>0.0</td>\n      <td>0.0</td>\n      <td>0.0</td>\n      <td>0.0</td>\n      <td>1.0</td>\n      <td>0.0</td>\n      <td>0.0</td>\n      <td>0.0</td>\n      <td>0.0</td>\n      <td>0.0</td>\n      <td>1.0</td>\n      <td>0.0</td>\n      <td>0.0</td>\n      <td>0.0</td>\n      <td>0.0</td>\n      <td>0.0</td>\n      <td>0.0</td>\n      <td>0.0</td>\n      <td>1.0</td>\n      <td>0.0</td>\n      <td>0.0</td>\n      <td>0.0</td>\n      <td>0.0</td>\n      <td>0.0</td>\n      <td>0.0</td>\n      <td>0.0</td>\n      <td>0.0</td>\n      <td>0.0</td>\n      <td>0.0</td>\n      <td>0.0</td>\n      <td>0.0</td>\n      <td>0.0</td>\n      <td>0.0</td>\n      <td>0.0</td>\n      <td>...</td>\n      <td>0.0</td>\n      <td>0.0</td>\n      <td>0.0</td>\n      <td>0.0</td>\n      <td>0.0</td>\n      <td>0.0</td>\n      <td>0.0</td>\n      <td>0.0</td>\n      <td>0.0</td>\n      <td>0.0</td>\n      <td>0.0</td>\n      <td>0.0</td>\n      <td>0.0</td>\n      <td>0.0</td>\n      <td>0.0</td>\n      <td>0.0</td>\n      <td>0.0</td>\n      <td>0.0</td>\n      <td>0.0</td>\n      <td>0.0</td>\n      <td>0.0</td>\n      <td>0.0</td>\n      <td>0.0</td>\n      <td>0.0</td>\n      <td>0.0</td>\n      <td>0.0</td>\n      <td>0.0</td>\n      <td>0.0</td>\n      <td>0.0</td>\n      <td>0.0</td>\n      <td>0.0</td>\n      <td>0.0</td>\n      <td>0.0</td>\n      <td>0.0</td>\n      <td>1.0</td>\n      <td>0.0</td>\n      <td>1.0</td>\n      <td>0.0</td>\n      <td>1.0</td>\n      <td>0.0</td>\n    </tr>\n    <tr>\n      <th>1</th>\n      <td>2.0</td>\n      <td>525.000000</td>\n      <td>1.0</td>\n      <td>1.0</td>\n      <td>0.0</td>\n      <td>0.0</td>\n      <td>0.0</td>\n      <td>0.0</td>\n      <td>0.0</td>\n      <td>0.0</td>\n      <td>1.0</td>\n      <td>0.0</td>\n      <td>0.0</td>\n      <td>0.0</td>\n      <td>0.0</td>\n      <td>0.0</td>\n      <td>1.0</td>\n      <td>0.0</td>\n      <td>0.0</td>\n      <td>0.0</td>\n      <td>0.0</td>\n      <td>0.0</td>\n      <td>0.0</td>\n      <td>0.0</td>\n      <td>0.0</td>\n      <td>1.0</td>\n      <td>0.0</td>\n      <td>0.0</td>\n      <td>0.0</td>\n      <td>0.0</td>\n      <td>0.0</td>\n      <td>0.0</td>\n      <td>0.0</td>\n      <td>0.0</td>\n      <td>0.0</td>\n      <td>0.0</td>\n      <td>0.0</td>\n      <td>0.0</td>\n      <td>0.0</td>\n      <td>0.0</td>\n      <td>...</td>\n      <td>0.0</td>\n      <td>0.0</td>\n      <td>0.0</td>\n      <td>0.0</td>\n      <td>0.0</td>\n      <td>0.0</td>\n      <td>0.0</td>\n      <td>0.0</td>\n      <td>0.0</td>\n      <td>0.0</td>\n      <td>0.0</td>\n      <td>0.0</td>\n      <td>0.0</td>\n      <td>0.0</td>\n      <td>0.0</td>\n      <td>0.0</td>\n      <td>0.0</td>\n      <td>0.0</td>\n      <td>0.0</td>\n      <td>0.0</td>\n      <td>0.0</td>\n      <td>0.0</td>\n      <td>0.0</td>\n      <td>0.0</td>\n      <td>0.0</td>\n      <td>0.0</td>\n      <td>0.0</td>\n      <td>0.0</td>\n      <td>0.0</td>\n      <td>0.0</td>\n      <td>0.0</td>\n      <td>0.0</td>\n      <td>0.0</td>\n      <td>0.0</td>\n      <td>1.0</td>\n      <td>0.0</td>\n      <td>1.0</td>\n      <td>0.0</td>\n      <td>1.0</td>\n      <td>0.0</td>\n    </tr>\n    <tr>\n      <th>2</th>\n      <td>3.0</td>\n      <td>677.000000</td>\n      <td>1.0</td>\n      <td>1.0</td>\n      <td>0.0</td>\n      <td>0.0</td>\n      <td>0.0</td>\n      <td>0.0</td>\n      <td>0.0</td>\n      <td>1.0</td>\n      <td>0.0</td>\n      <td>0.0</td>\n      <td>0.0</td>\n      <td>0.0</td>\n      <td>0.0</td>\n      <td>0.0</td>\n      <td>1.0</td>\n      <td>0.0</td>\n      <td>0.0</td>\n      <td>0.0</td>\n      <td>0.0</td>\n      <td>0.0</td>\n      <td>0.0</td>\n      <td>0.0</td>\n      <td>0.0</td>\n      <td>0.0</td>\n      <td>1.0</td>\n      <td>0.0</td>\n      <td>0.0</td>\n      <td>0.0</td>\n      <td>0.0</td>\n      <td>0.0</td>\n      <td>0.0</td>\n      <td>0.0</td>\n      <td>0.0</td>\n      <td>0.0</td>\n      <td>0.0</td>\n      <td>0.0</td>\n      <td>0.0</td>\n      <td>0.0</td>\n      <td>...</td>\n      <td>0.0</td>\n      <td>0.0</td>\n      <td>0.0</td>\n      <td>0.0</td>\n      <td>0.0</td>\n      <td>0.0</td>\n      <td>0.0</td>\n      <td>0.0</td>\n      <td>0.0</td>\n      <td>0.0</td>\n      <td>0.0</td>\n      <td>0.0</td>\n      <td>0.0</td>\n      <td>0.0</td>\n      <td>0.0</td>\n      <td>0.0</td>\n      <td>0.0</td>\n      <td>0.0</td>\n      <td>0.0</td>\n      <td>0.0</td>\n      <td>0.0</td>\n      <td>0.0</td>\n      <td>0.0</td>\n      <td>0.0</td>\n      <td>0.0</td>\n      <td>0.0</td>\n      <td>0.0</td>\n      <td>0.0</td>\n      <td>0.0</td>\n      <td>0.0</td>\n      <td>0.0</td>\n      <td>0.0</td>\n      <td>0.0</td>\n      <td>0.0</td>\n      <td>1.0</td>\n      <td>0.0</td>\n      <td>1.0</td>\n      <td>0.0</td>\n      <td>1.0</td>\n      <td>0.0</td>\n    </tr>\n    <tr>\n      <th>3</th>\n      <td>4.0</td>\n      <td>500.000000</td>\n      <td>1.0</td>\n      <td>1.0</td>\n      <td>0.0</td>\n      <td>0.0</td>\n      <td>0.0</td>\n      <td>0.0</td>\n      <td>0.0</td>\n      <td>0.0</td>\n      <td>0.0</td>\n      <td>0.0</td>\n      <td>1.0</td>\n      <td>0.0</td>\n      <td>0.0</td>\n      <td>0.0</td>\n      <td>0.0</td>\n      <td>0.0</td>\n      <td>1.0</td>\n      <td>0.0</td>\n      <td>0.0</td>\n      <td>0.0</td>\n      <td>0.0</td>\n      <td>0.0</td>\n      <td>0.0</td>\n      <td>0.0</td>\n      <td>0.0</td>\n      <td>1.0</td>\n      <td>0.0</td>\n      <td>0.0</td>\n      <td>0.0</td>\n      <td>0.0</td>\n      <td>0.0</td>\n      <td>0.0</td>\n      <td>0.0</td>\n      <td>0.0</td>\n      <td>0.0</td>\n      <td>0.0</td>\n      <td>0.0</td>\n      <td>0.0</td>\n      <td>...</td>\n      <td>0.0</td>\n      <td>0.0</td>\n      <td>0.0</td>\n      <td>0.0</td>\n      <td>0.0</td>\n      <td>0.0</td>\n      <td>0.0</td>\n      <td>0.0</td>\n      <td>0.0</td>\n      <td>0.0</td>\n      <td>0.0</td>\n      <td>0.0</td>\n      <td>0.0</td>\n      <td>0.0</td>\n      <td>0.0</td>\n      <td>0.0</td>\n      <td>0.0</td>\n      <td>0.0</td>\n      <td>0.0</td>\n      <td>0.0</td>\n      <td>0.0</td>\n      <td>0.0</td>\n      <td>0.0</td>\n      <td>0.0</td>\n      <td>0.0</td>\n      <td>0.0</td>\n      <td>0.0</td>\n      <td>0.0</td>\n      <td>0.0</td>\n      <td>0.0</td>\n      <td>0.0</td>\n      <td>0.0</td>\n      <td>0.0</td>\n      <td>0.0</td>\n      <td>1.0</td>\n      <td>0.0</td>\n      <td>1.0</td>\n      <td>0.0</td>\n      <td>1.0</td>\n      <td>0.0</td>\n    </tr>\n    <tr>\n      <th>4</th>\n      <td>5.0</td>\n      <td>3170.000000</td>\n      <td>1.0</td>\n      <td>1.0</td>\n      <td>0.0</td>\n      <td>0.0</td>\n      <td>0.0</td>\n      <td>1.0</td>\n      <td>0.0</td>\n      <td>0.0</td>\n      <td>0.0</td>\n      <td>0.0</td>\n      <td>0.0</td>\n      <td>0.0</td>\n      <td>0.0</td>\n      <td>0.0</td>\n      <td>1.0</td>\n      <td>0.0</td>\n      <td>0.0</td>\n      <td>0.0</td>\n      <td>0.0</td>\n      <td>0.0</td>\n      <td>0.0</td>\n      <td>0.0</td>\n      <td>0.0</td>\n      <td>0.0</td>\n      <td>0.0</td>\n      <td>0.0</td>\n      <td>1.0</td>\n      <td>0.0</td>\n      <td>0.0</td>\n      <td>0.0</td>\n      <td>0.0</td>\n      <td>0.0</td>\n      <td>0.0</td>\n      <td>0.0</td>\n      <td>0.0</td>\n      <td>0.0</td>\n      <td>0.0</td>\n      <td>0.0</td>\n      <td>...</td>\n      <td>0.0</td>\n      <td>0.0</td>\n      <td>0.0</td>\n      <td>0.0</td>\n      <td>0.0</td>\n      <td>0.0</td>\n      <td>0.0</td>\n      <td>0.0</td>\n      <td>0.0</td>\n      <td>0.0</td>\n      <td>0.0</td>\n      <td>0.0</td>\n      <td>0.0</td>\n      <td>0.0</td>\n      <td>0.0</td>\n      <td>0.0</td>\n      <td>0.0</td>\n      <td>0.0</td>\n      <td>0.0</td>\n      <td>0.0</td>\n      <td>0.0</td>\n      <td>0.0</td>\n      <td>0.0</td>\n      <td>0.0</td>\n      <td>0.0</td>\n      <td>0.0</td>\n      <td>0.0</td>\n      <td>0.0</td>\n      <td>0.0</td>\n      <td>0.0</td>\n      <td>0.0</td>\n      <td>0.0</td>\n      <td>0.0</td>\n      <td>0.0</td>\n      <td>1.0</td>\n      <td>0.0</td>\n      <td>1.0</td>\n      <td>0.0</td>\n      <td>1.0</td>\n      <td>0.0</td>\n    </tr>\n    <tr>\n      <th>...</th>\n      <td>...</td>\n      <td>...</td>\n      <td>...</td>\n      <td>...</td>\n      <td>...</td>\n      <td>...</td>\n      <td>...</td>\n      <td>...</td>\n      <td>...</td>\n      <td>...</td>\n      <td>...</td>\n      <td>...</td>\n      <td>...</td>\n      <td>...</td>\n      <td>...</td>\n      <td>...</td>\n      <td>...</td>\n      <td>...</td>\n      <td>...</td>\n      <td>...</td>\n      <td>...</td>\n      <td>...</td>\n      <td>...</td>\n      <td>...</td>\n      <td>...</td>\n      <td>...</td>\n      <td>...</td>\n      <td>...</td>\n      <td>...</td>\n      <td>...</td>\n      <td>...</td>\n      <td>...</td>\n      <td>...</td>\n      <td>...</td>\n      <td>...</td>\n      <td>...</td>\n      <td>...</td>\n      <td>...</td>\n      <td>...</td>\n      <td>...</td>\n      <td>...</td>\n      <td>...</td>\n      <td>...</td>\n      <td>...</td>\n      <td>...</td>\n      <td>...</td>\n      <td>...</td>\n      <td>...</td>\n      <td>...</td>\n      <td>...</td>\n      <td>...</td>\n      <td>...</td>\n      <td>...</td>\n      <td>...</td>\n      <td>...</td>\n      <td>...</td>\n      <td>...</td>\n      <td>...</td>\n      <td>...</td>\n      <td>...</td>\n      <td>...</td>\n      <td>...</td>\n      <td>...</td>\n      <td>...</td>\n      <td>...</td>\n      <td>...</td>\n      <td>...</td>\n      <td>...</td>\n      <td>...</td>\n      <td>...</td>\n      <td>...</td>\n      <td>...</td>\n      <td>...</td>\n      <td>...</td>\n      <td>...</td>\n      <td>...</td>\n      <td>...</td>\n      <td>...</td>\n      <td>...</td>\n      <td>...</td>\n      <td>...</td>\n    </tr>\n    <tr>\n      <th>85</th>\n      <td>86.0</td>\n      <td>15400.000000</td>\n      <td>2.0</td>\n      <td>5.0</td>\n      <td>2.0</td>\n      <td>0.0</td>\n      <td>0.0</td>\n      <td>0.0</td>\n      <td>0.0</td>\n      <td>0.0</td>\n      <td>0.0</td>\n      <td>0.0</td>\n      <td>0.0</td>\n      <td>0.0</td>\n      <td>0.0</td>\n      <td>1.0</td>\n      <td>0.0</td>\n      <td>1.0</td>\n      <td>0.0</td>\n      <td>0.0</td>\n      <td>0.0</td>\n      <td>1.0</td>\n      <td>0.0</td>\n      <td>0.0</td>\n      <td>0.0</td>\n      <td>0.0</td>\n      <td>0.0</td>\n      <td>0.0</td>\n      <td>0.0</td>\n      <td>0.0</td>\n      <td>0.0</td>\n      <td>0.0</td>\n      <td>0.0</td>\n      <td>0.0</td>\n      <td>0.0</td>\n      <td>0.0</td>\n      <td>0.0</td>\n      <td>0.0</td>\n      <td>0.0</td>\n      <td>0.0</td>\n      <td>...</td>\n      <td>0.0</td>\n      <td>0.0</td>\n      <td>0.0</td>\n      <td>0.0</td>\n      <td>0.0</td>\n      <td>0.0</td>\n      <td>0.0</td>\n      <td>0.0</td>\n      <td>0.0</td>\n      <td>0.0</td>\n      <td>0.0</td>\n      <td>0.0</td>\n      <td>0.0</td>\n      <td>0.0</td>\n      <td>0.0</td>\n      <td>0.0</td>\n      <td>0.0</td>\n      <td>0.0</td>\n      <td>0.0</td>\n      <td>0.0</td>\n      <td>0.0</td>\n      <td>0.0</td>\n      <td>0.0</td>\n      <td>0.0</td>\n      <td>0.0</td>\n      <td>0.0</td>\n      <td>0.0</td>\n      <td>0.0</td>\n      <td>0.0</td>\n      <td>0.0</td>\n      <td>0.0</td>\n      <td>0.0</td>\n      <td>1.0</td>\n      <td>0.0</td>\n      <td>0.0</td>\n      <td>1.0</td>\n      <td>0.0</td>\n      <td>1.0</td>\n      <td>0.0</td>\n      <td>1.0</td>\n    </tr>\n    <tr>\n      <th>86</th>\n      <td>87.0</td>\n      <td>15400.000000</td>\n      <td>3.0</td>\n      <td>5.0</td>\n      <td>2.0</td>\n      <td>0.0</td>\n      <td>0.0</td>\n      <td>0.0</td>\n      <td>0.0</td>\n      <td>0.0</td>\n      <td>0.0</td>\n      <td>0.0</td>\n      <td>0.0</td>\n      <td>0.0</td>\n      <td>0.0</td>\n      <td>1.0</td>\n      <td>0.0</td>\n      <td>1.0</td>\n      <td>0.0</td>\n      <td>0.0</td>\n      <td>0.0</td>\n      <td>1.0</td>\n      <td>0.0</td>\n      <td>0.0</td>\n      <td>0.0</td>\n      <td>0.0</td>\n      <td>0.0</td>\n      <td>0.0</td>\n      <td>0.0</td>\n      <td>0.0</td>\n      <td>0.0</td>\n      <td>0.0</td>\n      <td>0.0</td>\n      <td>0.0</td>\n      <td>0.0</td>\n      <td>0.0</td>\n      <td>0.0</td>\n      <td>0.0</td>\n      <td>0.0</td>\n      <td>0.0</td>\n      <td>...</td>\n      <td>0.0</td>\n      <td>0.0</td>\n      <td>0.0</td>\n      <td>0.0</td>\n      <td>0.0</td>\n      <td>0.0</td>\n      <td>0.0</td>\n      <td>0.0</td>\n      <td>0.0</td>\n      <td>0.0</td>\n      <td>0.0</td>\n      <td>0.0</td>\n      <td>0.0</td>\n      <td>0.0</td>\n      <td>0.0</td>\n      <td>0.0</td>\n      <td>0.0</td>\n      <td>0.0</td>\n      <td>0.0</td>\n      <td>0.0</td>\n      <td>0.0</td>\n      <td>0.0</td>\n      <td>0.0</td>\n      <td>0.0</td>\n      <td>0.0</td>\n      <td>0.0</td>\n      <td>0.0</td>\n      <td>0.0</td>\n      <td>0.0</td>\n      <td>0.0</td>\n      <td>1.0</td>\n      <td>0.0</td>\n      <td>0.0</td>\n      <td>0.0</td>\n      <td>0.0</td>\n      <td>1.0</td>\n      <td>0.0</td>\n      <td>1.0</td>\n      <td>0.0</td>\n      <td>1.0</td>\n    </tr>\n    <tr>\n      <th>87</th>\n      <td>88.0</td>\n      <td>15400.000000</td>\n      <td>6.0</td>\n      <td>5.0</td>\n      <td>5.0</td>\n      <td>0.0</td>\n      <td>0.0</td>\n      <td>0.0</td>\n      <td>0.0</td>\n      <td>0.0</td>\n      <td>0.0</td>\n      <td>0.0</td>\n      <td>0.0</td>\n      <td>0.0</td>\n      <td>0.0</td>\n      <td>1.0</td>\n      <td>0.0</td>\n      <td>1.0</td>\n      <td>0.0</td>\n      <td>0.0</td>\n      <td>0.0</td>\n      <td>1.0</td>\n      <td>0.0</td>\n      <td>0.0</td>\n      <td>0.0</td>\n      <td>0.0</td>\n      <td>0.0</td>\n      <td>0.0</td>\n      <td>0.0</td>\n      <td>0.0</td>\n      <td>0.0</td>\n      <td>0.0</td>\n      <td>0.0</td>\n      <td>0.0</td>\n      <td>0.0</td>\n      <td>0.0</td>\n      <td>0.0</td>\n      <td>0.0</td>\n      <td>0.0</td>\n      <td>0.0</td>\n      <td>...</td>\n      <td>0.0</td>\n      <td>0.0</td>\n      <td>0.0</td>\n      <td>0.0</td>\n      <td>0.0</td>\n      <td>0.0</td>\n      <td>0.0</td>\n      <td>0.0</td>\n      <td>0.0</td>\n      <td>0.0</td>\n      <td>0.0</td>\n      <td>0.0</td>\n      <td>0.0</td>\n      <td>0.0</td>\n      <td>0.0</td>\n      <td>0.0</td>\n      <td>0.0</td>\n      <td>0.0</td>\n      <td>0.0</td>\n      <td>0.0</td>\n      <td>0.0</td>\n      <td>0.0</td>\n      <td>0.0</td>\n      <td>0.0</td>\n      <td>0.0</td>\n      <td>0.0</td>\n      <td>0.0</td>\n      <td>1.0</td>\n      <td>0.0</td>\n      <td>0.0</td>\n      <td>0.0</td>\n      <td>0.0</td>\n      <td>0.0</td>\n      <td>0.0</td>\n      <td>0.0</td>\n      <td>1.0</td>\n      <td>0.0</td>\n      <td>1.0</td>\n      <td>0.0</td>\n      <td>1.0</td>\n    </tr>\n    <tr>\n      <th>88</th>\n      <td>89.0</td>\n      <td>15400.000000</td>\n      <td>3.0</td>\n      <td>5.0</td>\n      <td>2.0</td>\n      <td>0.0</td>\n      <td>0.0</td>\n      <td>0.0</td>\n      <td>0.0</td>\n      <td>0.0</td>\n      <td>0.0</td>\n      <td>0.0</td>\n      <td>0.0</td>\n      <td>0.0</td>\n      <td>0.0</td>\n      <td>1.0</td>\n      <td>1.0</td>\n      <td>0.0</td>\n      <td>0.0</td>\n      <td>0.0</td>\n      <td>0.0</td>\n      <td>0.0</td>\n      <td>0.0</td>\n      <td>1.0</td>\n      <td>0.0</td>\n      <td>0.0</td>\n      <td>0.0</td>\n      <td>0.0</td>\n      <td>0.0</td>\n      <td>0.0</td>\n      <td>0.0</td>\n      <td>0.0</td>\n      <td>0.0</td>\n      <td>0.0</td>\n      <td>0.0</td>\n      <td>0.0</td>\n      <td>0.0</td>\n      <td>0.0</td>\n      <td>0.0</td>\n      <td>0.0</td>\n      <td>...</td>\n      <td>0.0</td>\n      <td>0.0</td>\n      <td>0.0</td>\n      <td>0.0</td>\n      <td>0.0</td>\n      <td>0.0</td>\n      <td>0.0</td>\n      <td>0.0</td>\n      <td>0.0</td>\n      <td>0.0</td>\n      <td>0.0</td>\n      <td>0.0</td>\n      <td>0.0</td>\n      <td>0.0</td>\n      <td>0.0</td>\n      <td>0.0</td>\n      <td>0.0</td>\n      <td>0.0</td>\n      <td>0.0</td>\n      <td>0.0</td>\n      <td>0.0</td>\n      <td>0.0</td>\n      <td>0.0</td>\n      <td>0.0</td>\n      <td>0.0</td>\n      <td>0.0</td>\n      <td>0.0</td>\n      <td>0.0</td>\n      <td>0.0</td>\n      <td>0.0</td>\n      <td>0.0</td>\n      <td>0.0</td>\n      <td>1.0</td>\n      <td>0.0</td>\n      <td>0.0</td>\n      <td>1.0</td>\n      <td>0.0</td>\n      <td>1.0</td>\n      <td>0.0</td>\n      <td>1.0</td>\n    </tr>\n    <tr>\n      <th>89</th>\n      <td>90.0</td>\n      <td>3681.000000</td>\n      <td>1.0</td>\n      <td>5.0</td>\n      <td>0.0</td>\n      <td>0.0</td>\n      <td>0.0</td>\n      <td>0.0</td>\n      <td>0.0</td>\n      <td>0.0</td>\n      <td>0.0</td>\n      <td>1.0</td>\n      <td>0.0</td>\n      <td>0.0</td>\n      <td>0.0</td>\n      <td>0.0</td>\n      <td>1.0</td>\n      <td>0.0</td>\n      <td>0.0</td>\n      <td>0.0</td>\n      <td>0.0</td>\n      <td>1.0</td>\n      <td>0.0</td>\n      <td>0.0</td>\n      <td>0.0</td>\n      <td>0.0</td>\n      <td>0.0</td>\n      <td>0.0</td>\n      <td>0.0</td>\n      <td>0.0</td>\n      <td>0.0</td>\n      <td>0.0</td>\n      <td>0.0</td>\n      <td>0.0</td>\n      <td>0.0</td>\n      <td>0.0</td>\n      <td>0.0</td>\n      <td>0.0</td>\n      <td>0.0</td>\n      <td>0.0</td>\n      <td>...</td>\n      <td>0.0</td>\n      <td>0.0</td>\n      <td>0.0</td>\n      <td>0.0</td>\n      <td>0.0</td>\n      <td>0.0</td>\n      <td>0.0</td>\n      <td>0.0</td>\n      <td>0.0</td>\n      <td>0.0</td>\n      <td>0.0</td>\n      <td>0.0</td>\n      <td>0.0</td>\n      <td>0.0</td>\n      <td>0.0</td>\n      <td>0.0</td>\n      <td>0.0</td>\n      <td>0.0</td>\n      <td>0.0</td>\n      <td>0.0</td>\n      <td>0.0</td>\n      <td>0.0</td>\n      <td>0.0</td>\n      <td>0.0</td>\n      <td>0.0</td>\n      <td>0.0</td>\n      <td>0.0</td>\n      <td>0.0</td>\n      <td>0.0</td>\n      <td>0.0</td>\n      <td>0.0</td>\n      <td>0.0</td>\n      <td>0.0</td>\n      <td>1.0</td>\n      <td>0.0</td>\n      <td>1.0</td>\n      <td>1.0</td>\n      <td>0.0</td>\n      <td>0.0</td>\n      <td>1.0</td>\n    </tr>\n  </tbody>\n</table>\n<p>90 rows \u00d7 83 columns</p>\n</div>",
                        "text/plain": "    FlightNumber   PayloadMass  Flights  ...  Reused_True  Legs_False  Legs_True\n0            1.0   6104.959412      1.0  ...          0.0         1.0        0.0\n1            2.0    525.000000      1.0  ...          0.0         1.0        0.0\n2            3.0    677.000000      1.0  ...          0.0         1.0        0.0\n3            4.0    500.000000      1.0  ...          0.0         1.0        0.0\n4            5.0   3170.000000      1.0  ...          0.0         1.0        0.0\n..           ...           ...      ...  ...          ...         ...        ...\n85          86.0  15400.000000      2.0  ...          1.0         0.0        1.0\n86          87.0  15400.000000      3.0  ...          1.0         0.0        1.0\n87          88.0  15400.000000      6.0  ...          1.0         0.0        1.0\n88          89.0  15400.000000      3.0  ...          1.0         0.0        1.0\n89          90.0   3681.000000      1.0  ...          0.0         0.0        1.0\n\n[90 rows x 83 columns]"
                    },
                    "metadata": {},
                    "execution_count": 4
                }
            ]
        },
        {
            "metadata": {
                "id": "cSQbfGwddSyA"
            },
            "cell_type": "markdown",
            "source": "## TASK  1\n"
        },
        {
            "metadata": {
                "id": "pRQijURVdSyA"
            },
            "cell_type": "markdown",
            "source": "Create a NumPy array from the column <code>Class</code> in <code>data</code>, by applying the method <code>to_numpy()</code>  then\nassign it  to the variable <code>Y</code>,make sure the output is a  Pandas series (only one bracket df\\['name of  column']).\n"
        },
        {
            "metadata": {
                "colab": {
                    "base_uri": "https://localhost:8080/"
                },
                "id": "jApWBQgSdSyB",
                "executionInfo": {
                    "status": "ok",
                    "timestamp": 1637330371910,
                    "user_tz": 0,
                    "elapsed": 267,
                    "user": {
                        "displayName": "\u00cdsak Bieltvedt J\u00f3nsson",
                        "photoUrl": "https://lh3.googleusercontent.com/a-/AOh14GiTiI0piuXLSgvniCF5NOQLHhPXGjkugzPXJh-f=s64",
                        "userId": "10107236773476245691"
                    }
                },
                "outputId": "e6c1b49d-bb54-4ca6-9289-080cce1fa1f3"
            },
            "cell_type": "code",
            "source": "Y = data.Class.to_numpy()\nY",
            "execution_count": 6,
            "outputs": [
                {
                    "output_type": "execute_result",
                    "data": {
                        "text/plain": "array([0, 0, 0, 0, 0, 0, 1, 1, 0, 0, 0, 0, 1, 0, 0, 0, 1, 0, 0, 1, 1, 1,\n       1, 1, 0, 1, 1, 0, 1, 1, 0, 1, 1, 1, 0, 1, 1, 1, 1, 1, 1, 1, 1, 1,\n       1, 0, 0, 0, 1, 1, 0, 0, 1, 1, 1, 1, 1, 1, 1, 0, 0, 1, 1, 1, 1, 1,\n       1, 0, 1, 1, 1, 1, 0, 1, 0, 1, 0, 1, 1, 1, 1, 1, 1, 1, 1, 1, 1, 1,\n       1, 1])"
                    },
                    "metadata": {},
                    "execution_count": 6
                }
            ]
        },
        {
            "metadata": {
                "id": "7LrEQYq9dSyB"
            },
            "cell_type": "markdown",
            "source": "## TASK  2\n"
        },
        {
            "metadata": {
                "id": "cwjpgU3CdSyB"
            },
            "cell_type": "markdown",
            "source": "Standardize the data in <code>X</code> then reassign it to the variable  <code>X</code> using the transform provided below.\n"
        },
        {
            "metadata": {
                "id": "VaZJQq2idSyC",
                "executionInfo": {
                    "status": "ok",
                    "timestamp": 1637330526756,
                    "user_tz": 0,
                    "elapsed": 304,
                    "user": {
                        "displayName": "\u00cdsak Bieltvedt J\u00f3nsson",
                        "photoUrl": "https://lh3.googleusercontent.com/a-/AOh14GiTiI0piuXLSgvniCF5NOQLHhPXGjkugzPXJh-f=s64",
                        "userId": "10107236773476245691"
                    }
                }
            },
            "cell_type": "code",
            "source": "# students get this \ntransform = preprocessing.StandardScaler()",
            "execution_count": 8,
            "outputs": []
        },
        {
            "metadata": {
                "id": "FdtCkGoHdSyC",
                "executionInfo": {
                    "status": "ok",
                    "timestamp": 1637330592674,
                    "user_tz": 0,
                    "elapsed": 253,
                    "user": {
                        "displayName": "\u00cdsak Bieltvedt J\u00f3nsson",
                        "photoUrl": "https://lh3.googleusercontent.com/a-/AOh14GiTiI0piuXLSgvniCF5NOQLHhPXGjkugzPXJh-f=s64",
                        "userId": "10107236773476245691"
                    }
                }
            },
            "cell_type": "code",
            "source": "X = transform.fit_transform(X)",
            "execution_count": 13,
            "outputs": []
        },
        {
            "metadata": {
                "id": "wRQFncoTdSyC"
            },
            "cell_type": "markdown",
            "source": "We split the data into training and testing data using the  function  <code>train_test_split</code>.   The training data is divided into validation data, a second set used for training  data; then the models are trained and hyperparameters are selected using the function <code>GridSearchCV</code>.\n"
        },
        {
            "metadata": {
                "id": "HIvdfBIfdSyC"
            },
            "cell_type": "markdown",
            "source": "## TASK  3\n"
        },
        {
            "metadata": {
                "id": "QeexOPgGdSyC"
            },
            "cell_type": "markdown",
            "source": "Use the function train_test_split to split the data X and Y into training and test data. Set the parameter test_size to  0.2 and random_state to 2. The training data and test data should be assigned to the following labels.\n"
        },
        {
            "metadata": {
                "id": "9Xz9pE6edSyD"
            },
            "cell_type": "markdown",
            "source": "<code>X_train, X_test, Y_train, Y_test</code>\n"
        },
        {
            "metadata": {
                "colab": {
                    "base_uri": "https://localhost:8080/"
                },
                "id": "9XEv0u1mdSyD",
                "executionInfo": {
                    "status": "ok",
                    "timestamp": 1637330727812,
                    "user_tz": 0,
                    "elapsed": 261,
                    "user": {
                        "displayName": "\u00cdsak Bieltvedt J\u00f3nsson",
                        "photoUrl": "https://lh3.googleusercontent.com/a-/AOh14GiTiI0piuXLSgvniCF5NOQLHhPXGjkugzPXJh-f=s64",
                        "userId": "10107236773476245691"
                    }
                },
                "outputId": "0a4352cf-4367-4bc5-e971-442c975a2284"
            },
            "cell_type": "code",
            "source": "X_train, X_test, Y_train, Y_test = train_test_split(X, Y, test_size=0.2, random_state=2)\nprint(f\"{X_train.shape}\\n{X_test.shape}\\n{Y_train.shape}\\n{Y_test.shape}\")",
            "execution_count": 14,
            "outputs": [
                {
                    "output_type": "stream",
                    "name": "stdout",
                    "text": "(72, 83)\n(18, 83)\n(72,)\n(18,)\n"
                }
            ]
        },
        {
            "metadata": {
                "id": "ysZPqtDbdSyD"
            },
            "cell_type": "markdown",
            "source": "we can see we only have 18 test samples.\n"
        },
        {
            "metadata": {
                "colab": {
                    "base_uri": "https://localhost:8080/"
                },
                "id": "4-rJqCtVdSyD",
                "executionInfo": {
                    "status": "ok",
                    "timestamp": 1637330749690,
                    "user_tz": 0,
                    "elapsed": 271,
                    "user": {
                        "displayName": "\u00cdsak Bieltvedt J\u00f3nsson",
                        "photoUrl": "https://lh3.googleusercontent.com/a-/AOh14GiTiI0piuXLSgvniCF5NOQLHhPXGjkugzPXJh-f=s64",
                        "userId": "10107236773476245691"
                    }
                },
                "outputId": "462643dd-99ee-4745-eb48-f7d01dd8aadf"
            },
            "cell_type": "code",
            "source": "Y_test.shape",
            "execution_count": 15,
            "outputs": [
                {
                    "output_type": "execute_result",
                    "data": {
                        "text/plain": "(18,)"
                    },
                    "metadata": {},
                    "execution_count": 15
                }
            ]
        },
        {
            "metadata": {
                "id": "-lO0Xnr3dSyE"
            },
            "cell_type": "markdown",
            "source": "## TASK  4\n"
        },
        {
            "metadata": {
                "id": "N72NLMuwdSyE"
            },
            "cell_type": "markdown",
            "source": "Create a logistic regression object  then create a  GridSearchCV object  <code>logreg_cv</code> with cv = 10.  Fit the object to find the best parameters from the dictionary <code>parameters</code>.\n"
        },
        {
            "metadata": {
                "id": "hZ1h2x3gdSyE"
            },
            "cell_type": "code",
            "source": "parameters ={'C':[0.01,0.1,1],\n             'penalty':['l2'],\n             'solver':['lbfgs']}",
            "execution_count": null,
            "outputs": []
        },
        {
            "metadata": {
                "colab": {
                    "base_uri": "https://localhost:8080/"
                },
                "id": "ofboDVqldSyE",
                "executionInfo": {
                    "status": "ok",
                    "timestamp": 1637331353005,
                    "user_tz": 0,
                    "elapsed": 253,
                    "user": {
                        "displayName": "\u00cdsak Bieltvedt J\u00f3nsson",
                        "photoUrl": "https://lh3.googleusercontent.com/a-/AOh14GiTiI0piuXLSgvniCF5NOQLHhPXGjkugzPXJh-f=s64",
                        "userId": "10107236773476245691"
                    }
                },
                "outputId": "d4c1c343-069b-421a-89b4-ee7b01eddf88"
            },
            "cell_type": "code",
            "source": "parameters ={\"C\":[0.01,0.1,1],'penalty':['l2'], 'solver':['lbfgs']}# l1 lasso l2 ridge\nlr=LogisticRegression()\n\nlogreg_cv = GridSearchCV(lr, param_grid=parameters, cv = 10)\nlogreg_cv.fit(X_train, Y_train)",
            "execution_count": 20,
            "outputs": [
                {
                    "output_type": "execute_result",
                    "data": {
                        "text/plain": "GridSearchCV(cv=10, estimator=LogisticRegression(),\n             param_grid={'C': [0.01, 0.1, 1], 'penalty': ['l2'],\n                         'solver': ['lbfgs']})"
                    },
                    "metadata": {},
                    "execution_count": 20
                }
            ]
        },
        {
            "metadata": {
                "id": "PVp7QNjfdSyE"
            },
            "cell_type": "markdown",
            "source": "We output the <code>GridSearchCV</code> object for logistic regression. We display the best parameters using the data attribute <code>best_params\\_</code> and the accuracy on the validation data using the data attribute <code>best_score\\_</code>.\n"
        },
        {
            "metadata": {
                "colab": {
                    "base_uri": "https://localhost:8080/"
                },
                "id": "uGTYwVEHdSyF",
                "executionInfo": {
                    "status": "ok",
                    "timestamp": 1637331361209,
                    "user_tz": 0,
                    "elapsed": 313,
                    "user": {
                        "displayName": "\u00cdsak Bieltvedt J\u00f3nsson",
                        "photoUrl": "https://lh3.googleusercontent.com/a-/AOh14GiTiI0piuXLSgvniCF5NOQLHhPXGjkugzPXJh-f=s64",
                        "userId": "10107236773476245691"
                    }
                },
                "outputId": "681a1920-cf0b-4888-9ac4-30c1d6e08577"
            },
            "cell_type": "code",
            "source": "print(\"tuned hpyerparameters :(best parameters) \",logreg_cv.best_params_)\nprint(\"accuracy :\",logreg_cv.best_score_)",
            "execution_count": 21,
            "outputs": [
                {
                    "output_type": "stream",
                    "name": "stdout",
                    "text": "tuned hpyerparameters :(best parameters)  {'C': 0.01, 'penalty': 'l2', 'solver': 'lbfgs'}\naccuracy : 0.8464285714285713\n"
                }
            ]
        },
        {
            "metadata": {
                "id": "zTrPufWTdSyF"
            },
            "cell_type": "markdown",
            "source": "## TASK  5\n"
        },
        {
            "metadata": {
                "id": "9CHgdkAXdSyF"
            },
            "cell_type": "markdown",
            "source": "Calculate the accuracy on the test data using the method <code>score</code>:\n"
        },
        {
            "metadata": {
                "colab": {
                    "base_uri": "https://localhost:8080/"
                },
                "id": "-kF5V2KndSyG",
                "executionInfo": {
                    "status": "ok",
                    "timestamp": 1637331391968,
                    "user_tz": 0,
                    "elapsed": 254,
                    "user": {
                        "displayName": "\u00cdsak Bieltvedt J\u00f3nsson",
                        "photoUrl": "https://lh3.googleusercontent.com/a-/AOh14GiTiI0piuXLSgvniCF5NOQLHhPXGjkugzPXJh-f=s64",
                        "userId": "10107236773476245691"
                    }
                },
                "outputId": "61a495a5-f358-4c50-ce49-0aa8bc22e95e"
            },
            "cell_type": "code",
            "source": "logreg_cv.score(X_test, Y_test)",
            "execution_count": 23,
            "outputs": [
                {
                    "output_type": "execute_result",
                    "data": {
                        "text/plain": "0.8333333333333334"
                    },
                    "metadata": {},
                    "execution_count": 23
                }
            ]
        },
        {
            "metadata": {
                "id": "GI_cRYpDdSyG"
            },
            "cell_type": "markdown",
            "source": "Lets look at the confusion matrix:\n"
        },
        {
            "metadata": {
                "colab": {
                    "base_uri": "https://localhost:8080/",
                    "height": 295
                },
                "id": "UZlfQ5H0dSyG",
                "executionInfo": {
                    "status": "ok",
                    "timestamp": 1637331432920,
                    "user_tz": 0,
                    "elapsed": 270,
                    "user": {
                        "displayName": "\u00cdsak Bieltvedt J\u00f3nsson",
                        "photoUrl": "https://lh3.googleusercontent.com/a-/AOh14GiTiI0piuXLSgvniCF5NOQLHhPXGjkugzPXJh-f=s64",
                        "userId": "10107236773476245691"
                    }
                },
                "outputId": "3c61aeb8-2f80-4122-b1f7-4a4fbb78a5e0"
            },
            "cell_type": "code",
            "source": "yhat=logreg_cv.predict(X_test)\nplot_confusion_matrix(Y_test,yhat)",
            "execution_count": 24,
            "outputs": [
                {
                    "output_type": "display_data",
                    "data": {
                        "image/png": "[encoded data removed]",
                        "text/plain": "<Figure size 432x288 with 2 Axes>"
                    },
                    "metadata": {
                        "needs_background": "light"
                    }
                }
            ]
        },
        {
            "metadata": {
                "id": "X0J3gQ3bdSyG"
            },
            "cell_type": "markdown",
            "source": "Examining the confusion matrix, we see that logistic regression can distinguish between the different classes.  We see that the major problem is false positives.\n"
        },
        {
            "metadata": {
                "id": "6tkwYHgldSyH"
            },
            "cell_type": "markdown",
            "source": "## TASK  6\n"
        },
        {
            "metadata": {
                "id": "hKvv1VvtdSyH"
            },
            "cell_type": "markdown",
            "source": "Create a support vector machine object then  create a  <code>GridSearchCV</code> object  <code>svm_cv</code> with cv - 10.  Fit the object to find the best parameters from the dictionary <code>parameters</code>.\n"
        },
        {
            "metadata": {
                "id": "IaUPyudUdSyH",
                "executionInfo": {
                    "status": "ok",
                    "timestamp": 1637331539929,
                    "user_tz": 0,
                    "elapsed": 267,
                    "user": {
                        "displayName": "\u00cdsak Bieltvedt J\u00f3nsson",
                        "photoUrl": "https://lh3.googleusercontent.com/a-/AOh14GiTiI0piuXLSgvniCF5NOQLHhPXGjkugzPXJh-f=s64",
                        "userId": "10107236773476245691"
                    }
                }
            },
            "cell_type": "code",
            "source": "parameters = {'kernel':('linear', 'rbf','poly','rbf', 'sigmoid'),\n              'C': np.logspace(-3, 3, 5),\n              'gamma':np.logspace(-3, 3, 5)}\nsvm = SVC()",
            "execution_count": 26,
            "outputs": []
        },
        {
            "metadata": {
                "colab": {
                    "base_uri": "https://localhost:8080/"
                },
                "id": "uk7vNe9CdSyH",
                "executionInfo": {
                    "status": "ok",
                    "timestamp": 1637331677233,
                    "user_tz": 0,
                    "elapsed": 2391,
                    "user": {
                        "displayName": "\u00cdsak Bieltvedt J\u00f3nsson",
                        "photoUrl": "https://lh3.googleusercontent.com/a-/AOh14GiTiI0piuXLSgvniCF5NOQLHhPXGjkugzPXJh-f=s64",
                        "userId": "10107236773476245691"
                    }
                },
                "outputId": "7a37484c-23c0-4494-d35b-384e34fb00f6"
            },
            "cell_type": "code",
            "source": "svm_cv = GridSearchCV(svm, param_grid=parameters, cv =10)\nsvm_cv.fit(X_train, Y_train)",
            "execution_count": 34,
            "outputs": [
                {
                    "output_type": "execute_result",
                    "data": {
                        "text/plain": "GridSearchCV(cv=10, estimator=SVC(),\n             param_grid={'C': array([1.00000000e-03, 3.16227766e-02, 1.00000000e+00, 3.16227766e+01,\n       1.00000000e+03]),\n                         'gamma': array([1.00000000e-03, 3.16227766e-02, 1.00000000e+00, 3.16227766e+01,\n       1.00000000e+03]),\n                         'kernel': ('linear', 'rbf', 'poly', 'rbf', 'sigmoid')})"
                    },
                    "metadata": {},
                    "execution_count": 34
                }
            ]
        },
        {
            "metadata": {
                "colab": {
                    "base_uri": "https://localhost:8080/"
                },
                "id": "9Rbw-xJ1dSyH",
                "executionInfo": {
                    "status": "ok",
                    "timestamp": 1637331567959,
                    "user_tz": 0,
                    "elapsed": 292,
                    "user": {
                        "displayName": "\u00cdsak Bieltvedt J\u00f3nsson",
                        "photoUrl": "https://lh3.googleusercontent.com/a-/AOh14GiTiI0piuXLSgvniCF5NOQLHhPXGjkugzPXJh-f=s64",
                        "userId": "10107236773476245691"
                    }
                },
                "outputId": "7b94df69-c778-415d-96e5-438d7b6fc57b"
            },
            "cell_type": "code",
            "source": "print(\"tuned hpyerparameters :(best parameters) \",svm_cv.best_params_)\nprint(\"accuracy :\",svm_cv.best_score_)",
            "execution_count": 30,
            "outputs": [
                {
                    "output_type": "stream",
                    "name": "stdout",
                    "text": "tuned hpyerparameters :(best parameters)  {'C': 1.0, 'gamma': 0.03162277660168379, 'kernel': 'sigmoid'}\naccuracy : 0.8482142857142856\n"
                }
            ]
        },
        {
            "metadata": {
                "id": "neV2XnyzdSyI"
            },
            "cell_type": "markdown",
            "source": "## TASK  7\n"
        },
        {
            "metadata": {
                "id": "KIU7XkzNdSyJ"
            },
            "cell_type": "markdown",
            "source": "Calculate the accuracy on the test data using the method <code>score</code>:\n"
        },
        {
            "metadata": {
                "colab": {
                    "base_uri": "https://localhost:8080/"
                },
                "id": "wDvbYl7PdSyJ",
                "executionInfo": {
                    "status": "ok",
                    "timestamp": 1637331622433,
                    "user_tz": 0,
                    "elapsed": 276,
                    "user": {
                        "displayName": "\u00cdsak Bieltvedt J\u00f3nsson",
                        "photoUrl": "https://lh3.googleusercontent.com/a-/AOh14GiTiI0piuXLSgvniCF5NOQLHhPXGjkugzPXJh-f=s64",
                        "userId": "10107236773476245691"
                    }
                },
                "outputId": "433ca115-b015-4cf0-9a66-85e37846de55"
            },
            "cell_type": "code",
            "source": "svm_cv.score(X_test, Y_test)",
            "execution_count": 31,
            "outputs": [
                {
                    "output_type": "execute_result",
                    "data": {
                        "text/plain": "0.8333333333333334"
                    },
                    "metadata": {},
                    "execution_count": 31
                }
            ]
        },
        {
            "metadata": {
                "id": "bfaaGt1wdSyJ"
            },
            "cell_type": "markdown",
            "source": "We can plot the confusion matrix\n"
        },
        {
            "metadata": {
                "colab": {
                    "base_uri": "https://localhost:8080/",
                    "height": 295
                },
                "id": "WB50AZbqdSyK",
                "executionInfo": {
                    "status": "ok",
                    "timestamp": 1637331633330,
                    "user_tz": 0,
                    "elapsed": 821,
                    "user": {
                        "displayName": "\u00cdsak Bieltvedt J\u00f3nsson",
                        "photoUrl": "https://lh3.googleusercontent.com/a-/AOh14GiTiI0piuXLSgvniCF5NOQLHhPXGjkugzPXJh-f=s64",
                        "userId": "10107236773476245691"
                    }
                },
                "outputId": "7422039c-d573-441e-9dfd-fc6762d87e5d"
            },
            "cell_type": "code",
            "source": "yhat=svm_cv.predict(X_test)\nplot_confusion_matrix(Y_test,yhat)",
            "execution_count": 32,
            "outputs": [
                {
                    "output_type": "display_data",
                    "data": {
                        "image/png": "[encoded data removed]",
                        "text/plain": "<Figure size 432x288 with 2 Axes>"
                    },
                    "metadata": {
                        "needs_background": "light"
                    }
                }
            ]
        },
        {
            "metadata": {
                "id": "fhAf70QxdSyK"
            },
            "cell_type": "markdown",
            "source": "## TASK  8\n"
        },
        {
            "metadata": {
                "id": "ymjyQKe6dSyK"
            },
            "cell_type": "markdown",
            "source": "Create a decision tree classifier object then  create a  <code>GridSearchCV</code> object  <code>tree_cv</code> with cv = 10.  Fit the object to find the best parameters from the dictionary <code>parameters</code>.\n"
        },
        {
            "metadata": {
                "id": "b5bev4z3dSyK",
                "executionInfo": {
                    "status": "ok",
                    "timestamp": 1637332040377,
                    "user_tz": 0,
                    "elapsed": 256,
                    "user": {
                        "displayName": "\u00cdsak Bieltvedt J\u00f3nsson",
                        "photoUrl": "https://lh3.googleusercontent.com/a-/AOh14GiTiI0piuXLSgvniCF5NOQLHhPXGjkugzPXJh-f=s64",
                        "userId": "10107236773476245691"
                    }
                }
            },
            "cell_type": "code",
            "source": "parameters = {'criterion': ['gini', 'entropy'],\n     'splitter': ['best', 'random'],\n     'max_depth': [2*n for n in range(1,10)],\n     'max_features': ['auto', 'sqrt'],\n     'min_samples_leaf': [1, 2, 4],\n     'min_samples_split': [2, 5, 10]}\n\ntree = DecisionTreeClassifier()",
            "execution_count": 36,
            "outputs": []
        },
        {
            "metadata": {
                "colab": {
                    "base_uri": "https://localhost:8080/"
                },
                "id": "Ihom2cBqdSyL",
                "executionInfo": {
                    "status": "ok",
                    "timestamp": 1637332101451,
                    "user_tz": 0,
                    "elapsed": 8556,
                    "user": {
                        "displayName": "\u00cdsak Bieltvedt J\u00f3nsson",
                        "photoUrl": "https://lh3.googleusercontent.com/a-/AOh14GiTiI0piuXLSgvniCF5NOQLHhPXGjkugzPXJh-f=s64",
                        "userId": "10107236773476245691"
                    }
                },
                "outputId": "5aa5a268-c01c-4136-a1f4-90305efa2e91"
            },
            "cell_type": "code",
            "source": "tree_cv = GridSearchCV(tree, param_grid=parameters, cv = 10)\ntree_cv.fit(X_train, Y_train)",
            "execution_count": 39,
            "outputs": [
                {
                    "output_type": "execute_result",
                    "data": {
                        "text/plain": "GridSearchCV(cv=10, estimator=DecisionTreeClassifier(),\n             param_grid={'criterion': ['gini', 'entropy'],\n                         'max_depth': [2, 4, 6, 8, 10, 12, 14, 16, 18],\n                         'max_features': ['auto', 'sqrt'],\n                         'min_samples_leaf': [1, 2, 4],\n                         'min_samples_split': [2, 5, 10],\n                         'splitter': ['best', 'random']})"
                    },
                    "metadata": {},
                    "execution_count": 39
                }
            ]
        },
        {
            "metadata": {
                "colab": {
                    "base_uri": "https://localhost:8080/"
                },
                "id": "1ojehiBBdSyL",
                "executionInfo": {
                    "status": "ok",
                    "timestamp": 1637332103835,
                    "user_tz": 0,
                    "elapsed": 282,
                    "user": {
                        "displayName": "\u00cdsak Bieltvedt J\u00f3nsson",
                        "photoUrl": "https://lh3.googleusercontent.com/a-/AOh14GiTiI0piuXLSgvniCF5NOQLHhPXGjkugzPXJh-f=s64",
                        "userId": "10107236773476245691"
                    }
                },
                "outputId": "06938627-f03c-47e8-e4e7-15ed49be8a0d"
            },
            "cell_type": "code",
            "source": "print(\"tuned hpyerparameters :(best parameters) \",tree_cv.best_params_)\nprint(\"accuracy :\",tree_cv.best_score_)",
            "execution_count": 40,
            "outputs": [
                {
                    "output_type": "stream",
                    "name": "stdout",
                    "text": "tuned hpyerparameters :(best parameters)  {'criterion': 'entropy', 'max_depth': 10, 'max_features': 'auto', 'min_samples_leaf': 4, 'min_samples_split': 2, 'splitter': 'random'}\naccuracy : 0.8875\n"
                }
            ]
        },
        {
            "metadata": {
                "id": "_5iGQc8IdSyL"
            },
            "cell_type": "markdown",
            "source": "## TASK  9\n"
        },
        {
            "metadata": {
                "id": "zNDmkZcXdSyL"
            },
            "cell_type": "markdown",
            "source": "Calculate the accuracy of tree_cv on the test data using the method <code>score</code>:\n"
        },
        {
            "metadata": {
                "colab": {
                    "base_uri": "https://localhost:8080/"
                },
                "id": "zDKkwXX2dSyL",
                "executionInfo": {
                    "status": "ok",
                    "timestamp": 1637332140344,
                    "user_tz": 0,
                    "elapsed": 402,
                    "user": {
                        "displayName": "\u00cdsak Bieltvedt J\u00f3nsson",
                        "photoUrl": "https://lh3.googleusercontent.com/a-/AOh14GiTiI0piuXLSgvniCF5NOQLHhPXGjkugzPXJh-f=s64",
                        "userId": "10107236773476245691"
                    }
                },
                "outputId": "5e93139b-9d80-4852-b818-05cf4c923041"
            },
            "cell_type": "code",
            "source": "tree_cv.score(X_test, Y_test)",
            "execution_count": 41,
            "outputs": [
                {
                    "output_type": "execute_result",
                    "data": {
                        "text/plain": "0.7222222222222222"
                    },
                    "metadata": {},
                    "execution_count": 41
                }
            ]
        },
        {
            "metadata": {
                "id": "frlsViFFdSyL"
            },
            "cell_type": "markdown",
            "source": "We can plot the confusion matrix\n"
        },
        {
            "metadata": {
                "colab": {
                    "base_uri": "https://localhost:8080/",
                    "height": 295
                },
                "id": "zYqb-DX2dSyM",
                "executionInfo": {
                    "status": "ok",
                    "timestamp": 1637332200256,
                    "user_tz": 0,
                    "elapsed": 637,
                    "user": {
                        "displayName": "\u00cdsak Bieltvedt J\u00f3nsson",
                        "photoUrl": "https://lh3.googleusercontent.com/a-/AOh14GiTiI0piuXLSgvniCF5NOQLHhPXGjkugzPXJh-f=s64",
                        "userId": "10107236773476245691"
                    }
                },
                "outputId": "96f18768-2da4-41bd-d02f-3b5d4515a3f6"
            },
            "cell_type": "code",
            "source": "yhat = tree_cv.predict(X_test)\nplot_confusion_matrix(Y_test,yhat)",
            "execution_count": 43,
            "outputs": [
                {
                    "output_type": "display_data",
                    "data": {
                        "image/png": "[encoded data removed]",
                        "text/plain": "<Figure size 432x288 with 2 Axes>"
                    },
                    "metadata": {
                        "needs_background": "light"
                    }
                }
            ]
        },
        {
            "metadata": {
                "id": "7gUzlj7WdSyM"
            },
            "cell_type": "markdown",
            "source": "## TASK  10\n"
        },
        {
            "metadata": {
                "id": "zkhql2GzdSyM"
            },
            "cell_type": "markdown",
            "source": "Create a k nearest neighbors object then  create a  <code>GridSearchCV</code> object  <code>knn_cv</code> with cv = 10.  Fit the object to find the best parameters from the dictionary <code>parameters</code>.\n"
        },
        {
            "metadata": {
                "id": "pzx-4cH4dSyN",
                "executionInfo": {
                    "status": "ok",
                    "timestamp": 1637332426091,
                    "user_tz": 0,
                    "elapsed": 257,
                    "user": {
                        "displayName": "\u00cdsak Bieltvedt J\u00f3nsson",
                        "photoUrl": "https://lh3.googleusercontent.com/a-/AOh14GiTiI0piuXLSgvniCF5NOQLHhPXGjkugzPXJh-f=s64",
                        "userId": "10107236773476245691"
                    }
                }
            },
            "cell_type": "code",
            "source": "parameters = {'n_neighbors': [1, 2, 3, 4, 5, 6, 7, 8, 9, 10],\n              'algorithm': ['auto', 'ball_tree', 'kd_tree', 'brute'],\n              'p': [1,2]}\n\nKNN = KNeighborsClassifier()",
            "execution_count": 51,
            "outputs": []
        },
        {
            "metadata": {
                "colab": {
                    "base_uri": "https://localhost:8080/"
                },
                "id": "Sag7gLcUdSyN",
                "executionInfo": {
                    "status": "ok",
                    "timestamp": 1637332428937,
                    "user_tz": 0,
                    "elapsed": 1781,
                    "user": {
                        "displayName": "\u00cdsak Bieltvedt J\u00f3nsson",
                        "photoUrl": "https://lh3.googleusercontent.com/a-/AOh14GiTiI0piuXLSgvniCF5NOQLHhPXGjkugzPXJh-f=s64",
                        "userId": "10107236773476245691"
                    }
                },
                "outputId": "a31646d5-9a0b-4848-c531-97b40903efb9"
            },
            "cell_type": "code",
            "source": "knn_cv = GridSearchCV(KNN, param_grid=parameters, cv = 10)\nknn_cv.fit(X_train, Y_train)\n",
            "execution_count": 52,
            "outputs": [
                {
                    "output_type": "execute_result",
                    "data": {
                        "text/plain": "GridSearchCV(cv=10, estimator=KNeighborsClassifier(),\n             param_grid={'algorithm': ['auto', 'ball_tree', 'kd_tree', 'brute'],\n                         'n_neighbors': [1, 2, 3, 4, 5, 6, 7, 8, 9, 10],\n                         'p': [1, 2]})"
                    },
                    "metadata": {},
                    "execution_count": 52
                }
            ]
        },
        {
            "metadata": {
                "colab": {
                    "base_uri": "https://localhost:8080/"
                },
                "id": "HPKviyCHdSyO",
                "executionInfo": {
                    "status": "ok",
                    "timestamp": 1637332430547,
                    "user_tz": 0,
                    "elapsed": 270,
                    "user": {
                        "displayName": "\u00cdsak Bieltvedt J\u00f3nsson",
                        "photoUrl": "https://lh3.googleusercontent.com/a-/AOh14GiTiI0piuXLSgvniCF5NOQLHhPXGjkugzPXJh-f=s64",
                        "userId": "10107236773476245691"
                    }
                },
                "outputId": "9d7f2276-438d-464b-a96d-1035e5adafac"
            },
            "cell_type": "code",
            "source": "print(\"tuned hpyerparameters :(best parameters) \",knn_cv.best_params_)\nprint(\"accuracy :\",knn_cv.best_score_)",
            "execution_count": 53,
            "outputs": [
                {
                    "output_type": "stream",
                    "name": "stdout",
                    "text": "tuned hpyerparameters :(best parameters)  {'algorithm': 'auto', 'n_neighbors': 10, 'p': 1}\naccuracy : 0.8482142857142858\n"
                }
            ]
        },
        {
            "metadata": {
                "id": "blBqlvKldSyO"
            },
            "cell_type": "markdown",
            "source": "## TASK  11\n"
        },
        {
            "metadata": {
                "id": "QE7iyEI3dSyO"
            },
            "cell_type": "markdown",
            "source": "Calculate the accuracy of tree_cv on the test data using the method <code>score</code>:\n"
        },
        {
            "metadata": {
                "colab": {
                    "base_uri": "https://localhost:8080/"
                },
                "id": "wtFkBYzmdSyO",
                "executionInfo": {
                    "status": "ok",
                    "timestamp": 1637332487757,
                    "user_tz": 0,
                    "elapsed": 247,
                    "user": {
                        "displayName": "\u00cdsak Bieltvedt J\u00f3nsson",
                        "photoUrl": "https://lh3.googleusercontent.com/a-/AOh14GiTiI0piuXLSgvniCF5NOQLHhPXGjkugzPXJh-f=s64",
                        "userId": "10107236773476245691"
                    }
                },
                "outputId": "fbb253fb-5841-4f03-8ecc-d7ac0a5a9461"
            },
            "cell_type": "code",
            "source": "knn_cv.score(X_test,Y_test)",
            "execution_count": 54,
            "outputs": [
                {
                    "output_type": "execute_result",
                    "data": {
                        "text/plain": "0.8333333333333334"
                    },
                    "metadata": {},
                    "execution_count": 54
                }
            ]
        },
        {
            "metadata": {
                "id": "cEde3SCqdSyO"
            },
            "cell_type": "markdown",
            "source": "We can plot the confusion matrix\n"
        },
        {
            "metadata": {
                "colab": {
                    "base_uri": "https://localhost:8080/",
                    "height": 295
                },
                "id": "r__w_hLqdSyP",
                "executionInfo": {
                    "status": "ok",
                    "timestamp": 1637332491820,
                    "user_tz": 0,
                    "elapsed": 725,
                    "user": {
                        "displayName": "\u00cdsak Bieltvedt J\u00f3nsson",
                        "photoUrl": "https://lh3.googleusercontent.com/a-/AOh14GiTiI0piuXLSgvniCF5NOQLHhPXGjkugzPXJh-f=s64",
                        "userId": "10107236773476245691"
                    }
                },
                "outputId": "b5ba276b-8c2f-4e67-ac07-79615d895992"
            },
            "cell_type": "code",
            "source": "yhat = knn_cv.predict(X_test)\nplot_confusion_matrix(Y_test,yhat)",
            "execution_count": 55,
            "outputs": [
                {
                    "output_type": "display_data",
                    "data": {
                        "image/png": "[encoded data removed]",
                        "text/plain": "<Figure size 432x288 with 2 Axes>"
                    },
                    "metadata": {
                        "needs_background": "light"
                    }
                }
            ]
        },
        {
            "metadata": {
                "id": "Soiolb_WdSyP"
            },
            "cell_type": "markdown",
            "source": "## TASK  12\n"
        },
        {
            "metadata": {
                "id": "aUJLw48ydSyP"
            },
            "cell_type": "markdown",
            "source": "Find the method performs best:\n"
        },
        {
            "metadata": {
                "colab": {
                    "base_uri": "https://localhost:8080/"
                },
                "id": "Y6hjcv17dSyQ",
                "executionInfo": {
                    "status": "ok",
                    "timestamp": 1637333213328,
                    "user_tz": 0,
                    "elapsed": 273,
                    "user": {
                        "displayName": "\u00cdsak Bieltvedt J\u00f3nsson",
                        "photoUrl": "https://lh3.googleusercontent.com/a-/AOh14GiTiI0piuXLSgvniCF5NOQLHhPXGjkugzPXJh-f=s64",
                        "userId": "10107236773476245691"
                    }
                },
                "outputId": "e7e45055-098d-4762-db5f-91b73575d5e9"
            },
            "cell_type": "code",
            "source": "models = [logreg_cv, svm_cv, tree_cv, knn_cv]\nscores = [i.score(X_test, Y_test) for i in models]\n\nbest_model = models[np.argmax(scores)]\nbest_model",
            "execution_count": 65,
            "outputs": [
                {
                    "output_type": "execute_result",
                    "data": {
                        "text/plain": "GridSearchCV(cv=10, estimator=LogisticRegression(),\n             param_grid={'C': [0.01, 0.1, 1], 'penalty': ['l2'],\n                         'solver': ['lbfgs']})"
                    },
                    "metadata": {},
                    "execution_count": 65
                }
            ]
        },
        {
            "metadata": {
                "id": "nfU-si1CdSyQ"
            },
            "cell_type": "markdown",
            "source": "## Authors\n"
        },
        {
            "metadata": {
                "id": "1JGv3IEldSyQ"
            },
            "cell_type": "markdown",
            "source": "<a href=\"https://www.linkedin.com/in/joseph-s-50398b136/?utm_medium=Exinfluencer&utm_source=Exinfluencer&utm_content=000026UJ&utm_term=10006555&utm_id=NA-SkillsNetwork-Channel-SkillsNetworkCoursesIBMDS0321ENSkillsNetwork26802033-2021-01-01\">Joseph Santarcangelo</a> has a PhD in Electrical Engineering, his research focused on using machine learning, signal processing, and computer vision to determine how videos impact human cognition. Joseph has been working for IBM since he completed his PhD.\n"
        },
        {
            "metadata": {
                "id": "W_-EUu75dSyQ"
            },
            "cell_type": "markdown",
            "source": "## Change Log\n"
        },
        {
            "metadata": {
                "id": "apMoScX9dSyR"
            },
            "cell_type": "markdown",
            "source": "| Date (YYYY-MM-DD) | Version | Changed By    | Change Description      |\n| ----------------- | ------- | ------------- | ----------------------- |\n| 2021-08-31        | 1.1     | Lakshmi Holla | Modified markdown       |\n| 2020-09-20        | 1.0     | Joseph        | Modified Multiple Areas |\n"
        },
        {
            "metadata": {
                "id": "T13mKlQrdSyR"
            },
            "cell_type": "markdown",
            "source": "Copyright \u00a9 2020 IBM Corporation. All rights reserved.\n"
        }
    ],
    "metadata": {
        "kernelspec": {
            "name": "python3",
            "display_name": "Python 3.8",
            "language": "python"
        },
        "language_info": {
            "name": "python",
            "version": "3.8.12",
            "mimetype": "text/x-python",
            "codemirror_mode": {
                "name": "ipython",
                "version": 3
            },
            "pygments_lexer": "ipython3",
            "nbconvert_exporter": "python",
            "file_extension": ".py"
        },
        "colab": {
            "name": "SpaceX_Machine Learning Prediction_Part_5.ipynb",
            "provenance": [],
            "collapsed_sections": []
        }
    },
    "nbformat": 4,
    "nbformat_minor": 1
}